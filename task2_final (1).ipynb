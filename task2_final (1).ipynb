{
 "cells": [
  {
   "cell_type": "markdown",
   "id": "02ef63c0",
   "metadata": {},
   "source": [
    "# Importing necessary Libraries"
   ]
  },
  {
   "cell_type": "code",
   "execution_count": 1,
   "id": "f1dfa614",
   "metadata": {},
   "outputs": [],
   "source": [
    "import numpy as np\n",
    "import pandas as pd\n",
    "import matplotlib.pyplot as plt\n",
    "import seaborn as sns\n",
    "from sklearn.model_selection import train_test_split,GridSearchCV\n",
    "from sklearn.ensemble import RandomForestClassifier\n",
    "from sklearn.metrics import accuracy_score, confusion_matrix, classification_report\n",
    "from ast import literal_eval\n",
    "from sklearn.tree import plot_tree\n",
    "import xgboost as xgb\n",
    "from sklearn.datasets import make_moons\n",
    "from sklearn.preprocessing import LabelEncoder\n",
    "from sklearn.linear_model import LogisticRegression\n",
    "from sklearn.ensemble import RandomForestClassifier\n",
    "from sklearn.utils.class_weight import compute_sample_weight\n",
    "from sklearn.tree import DecisionTreeClassifier\n",
    "from sklearn.naive_bayes import GaussianNB\n",
    "from sklearn.ensemble import AdaBoostClassifier\n",
    "from sklearn.linear_model import PassiveAggressiveClassifier\n",
    "from sklearn.preprocessing import MinMaxScaler\n",
    "from sklearn.naive_bayes import MultinomialNB\n",
    "from sklearn.pipeline import Pipeline\n",
    "from sklearn.ensemble import VotingClassifier"
   ]
  },
  {
   "cell_type": "markdown",
   "id": "19dd43e0",
   "metadata": {},
   "source": [
    "## Load data and Pre-processing "
   ]
  },
  {
   "cell_type": "code",
   "execution_count": 3,
   "id": "b531272c",
   "metadata": {},
   "outputs": [
    {
     "data": {
      "text/html": [
       "<div>\n",
       "<style scoped>\n",
       "    .dataframe tbody tr th:only-of-type {\n",
       "        vertical-align: middle;\n",
       "    }\n",
       "\n",
       "    .dataframe tbody tr th {\n",
       "        vertical-align: top;\n",
       "    }\n",
       "\n",
       "    .dataframe thead th {\n",
       "        text-align: right;\n",
       "    }\n",
       "</style>\n",
       "<table border=\"1\" class=\"dataframe\">\n",
       "  <thead>\n",
       "    <tr style=\"text-align: right;\">\n",
       "      <th></th>\n",
       "      <th>packet_size_with_direction_0</th>\n",
       "      <th>packet_size_with_direction_1</th>\n",
       "      <th>packet_size_with_direction_2</th>\n",
       "      <th>packet_size_with_direction_3</th>\n",
       "      <th>packet_size_with_direction_4</th>\n",
       "      <th>packet_size_with_direction_5</th>\n",
       "      <th>packet_size_with_direction_6</th>\n",
       "      <th>packet_size_with_direction_7</th>\n",
       "      <th>packet_size_with_direction_8</th>\n",
       "      <th>packet_size_with_direction_9</th>\n",
       "      <th>...</th>\n",
       "      <th>inter_arrival_time_4990</th>\n",
       "      <th>inter_arrival_time_4991</th>\n",
       "      <th>inter_arrival_time_4992</th>\n",
       "      <th>inter_arrival_time_4993</th>\n",
       "      <th>inter_arrival_time_4994</th>\n",
       "      <th>inter_arrival_time_4995</th>\n",
       "      <th>inter_arrival_time_4996</th>\n",
       "      <th>inter_arrival_time_4997</th>\n",
       "      <th>inter_arrival_time_4998</th>\n",
       "      <th>label</th>\n",
       "    </tr>\n",
       "  </thead>\n",
       "  <tbody>\n",
       "    <tr>\n",
       "      <th>0</th>\n",
       "      <td>-1258.0</td>\n",
       "      <td>1208.0</td>\n",
       "      <td>1208.0</td>\n",
       "      <td>1208.0</td>\n",
       "      <td>776.0</td>\n",
       "      <td>-1258.0</td>\n",
       "      <td>-93.0</td>\n",
       "      <td>-92.0</td>\n",
       "      <td>-361.0</td>\n",
       "      <td>539.0</td>\n",
       "      <td>...</td>\n",
       "      <td>0.0</td>\n",
       "      <td>0.0</td>\n",
       "      <td>0.0</td>\n",
       "      <td>0.0</td>\n",
       "      <td>0.0</td>\n",
       "      <td>0.0</td>\n",
       "      <td>0.0</td>\n",
       "      <td>0.0</td>\n",
       "      <td>0.0</td>\n",
       "      <td>unmonitored</td>\n",
       "    </tr>\n",
       "    <tr>\n",
       "      <th>1</th>\n",
       "      <td>-1258.0</td>\n",
       "      <td>1208.0</td>\n",
       "      <td>1208.0</td>\n",
       "      <td>1208.0</td>\n",
       "      <td>774.0</td>\n",
       "      <td>-1258.0</td>\n",
       "      <td>-93.0</td>\n",
       "      <td>-92.0</td>\n",
       "      <td>-360.0</td>\n",
       "      <td>546.0</td>\n",
       "      <td>...</td>\n",
       "      <td>0.0</td>\n",
       "      <td>0.0</td>\n",
       "      <td>0.0</td>\n",
       "      <td>0.0</td>\n",
       "      <td>0.0</td>\n",
       "      <td>0.0</td>\n",
       "      <td>0.0</td>\n",
       "      <td>0.0</td>\n",
       "      <td>0.0</td>\n",
       "      <td>unmonitored</td>\n",
       "    </tr>\n",
       "    <tr>\n",
       "      <th>2</th>\n",
       "      <td>-1258.0</td>\n",
       "      <td>1208.0</td>\n",
       "      <td>1208.0</td>\n",
       "      <td>1208.0</td>\n",
       "      <td>760.0</td>\n",
       "      <td>-61.0</td>\n",
       "      <td>-93.0</td>\n",
       "      <td>-92.0</td>\n",
       "      <td>-356.0</td>\n",
       "      <td>544.0</td>\n",
       "      <td>...</td>\n",
       "      <td>0.0</td>\n",
       "      <td>0.0</td>\n",
       "      <td>0.0</td>\n",
       "      <td>0.0</td>\n",
       "      <td>0.0</td>\n",
       "      <td>0.0</td>\n",
       "      <td>0.0</td>\n",
       "      <td>0.0</td>\n",
       "      <td>0.0</td>\n",
       "      <td>unmonitored</td>\n",
       "    </tr>\n",
       "    <tr>\n",
       "      <th>3</th>\n",
       "      <td>-1258.0</td>\n",
       "      <td>1258.0</td>\n",
       "      <td>-1258.0</td>\n",
       "      <td>1258.0</td>\n",
       "      <td>1258.0</td>\n",
       "      <td>-49.0</td>\n",
       "      <td>1258.0</td>\n",
       "      <td>399.0</td>\n",
       "      <td>-49.0</td>\n",
       "      <td>-91.0</td>\n",
       "      <td>...</td>\n",
       "      <td>0.0</td>\n",
       "      <td>0.0</td>\n",
       "      <td>0.0</td>\n",
       "      <td>0.0</td>\n",
       "      <td>0.0</td>\n",
       "      <td>0.0</td>\n",
       "      <td>0.0</td>\n",
       "      <td>0.0</td>\n",
       "      <td>0.0</td>\n",
       "      <td>unmonitored</td>\n",
       "    </tr>\n",
       "    <tr>\n",
       "      <th>4</th>\n",
       "      <td>-1258.0</td>\n",
       "      <td>1208.0</td>\n",
       "      <td>1208.0</td>\n",
       "      <td>1208.0</td>\n",
       "      <td>767.0</td>\n",
       "      <td>-1258.0</td>\n",
       "      <td>-93.0</td>\n",
       "      <td>-90.0</td>\n",
       "      <td>-356.0</td>\n",
       "      <td>592.0</td>\n",
       "      <td>...</td>\n",
       "      <td>0.0</td>\n",
       "      <td>0.0</td>\n",
       "      <td>0.0</td>\n",
       "      <td>0.0</td>\n",
       "      <td>0.0</td>\n",
       "      <td>0.0</td>\n",
       "      <td>0.0</td>\n",
       "      <td>0.0</td>\n",
       "      <td>0.0</td>\n",
       "      <td>unmonitored</td>\n",
       "    </tr>\n",
       "  </tbody>\n",
       "</table>\n",
       "<p>5 rows × 10000 columns</p>\n",
       "</div>"
      ],
      "text/plain": [
       "   packet_size_with_direction_0  packet_size_with_direction_1  \\\n",
       "0                       -1258.0                        1208.0   \n",
       "1                       -1258.0                        1208.0   \n",
       "2                       -1258.0                        1208.0   \n",
       "3                       -1258.0                        1258.0   \n",
       "4                       -1258.0                        1208.0   \n",
       "\n",
       "   packet_size_with_direction_2  packet_size_with_direction_3  \\\n",
       "0                        1208.0                        1208.0   \n",
       "1                        1208.0                        1208.0   \n",
       "2                        1208.0                        1208.0   \n",
       "3                       -1258.0                        1258.0   \n",
       "4                        1208.0                        1208.0   \n",
       "\n",
       "   packet_size_with_direction_4  packet_size_with_direction_5  \\\n",
       "0                         776.0                       -1258.0   \n",
       "1                         774.0                       -1258.0   \n",
       "2                         760.0                         -61.0   \n",
       "3                        1258.0                         -49.0   \n",
       "4                         767.0                       -1258.0   \n",
       "\n",
       "   packet_size_with_direction_6  packet_size_with_direction_7  \\\n",
       "0                         -93.0                         -92.0   \n",
       "1                         -93.0                         -92.0   \n",
       "2                         -93.0                         -92.0   \n",
       "3                        1258.0                         399.0   \n",
       "4                         -93.0                         -90.0   \n",
       "\n",
       "   packet_size_with_direction_8  packet_size_with_direction_9  ...  \\\n",
       "0                        -361.0                         539.0  ...   \n",
       "1                        -360.0                         546.0  ...   \n",
       "2                        -356.0                         544.0  ...   \n",
       "3                         -49.0                         -91.0  ...   \n",
       "4                        -356.0                         592.0  ...   \n",
       "\n",
       "   inter_arrival_time_4990  inter_arrival_time_4991  inter_arrival_time_4992  \\\n",
       "0                      0.0                      0.0                      0.0   \n",
       "1                      0.0                      0.0                      0.0   \n",
       "2                      0.0                      0.0                      0.0   \n",
       "3                      0.0                      0.0                      0.0   \n",
       "4                      0.0                      0.0                      0.0   \n",
       "\n",
       "   inter_arrival_time_4993  inter_arrival_time_4994  inter_arrival_time_4995  \\\n",
       "0                      0.0                      0.0                      0.0   \n",
       "1                      0.0                      0.0                      0.0   \n",
       "2                      0.0                      0.0                      0.0   \n",
       "3                      0.0                      0.0                      0.0   \n",
       "4                      0.0                      0.0                      0.0   \n",
       "\n",
       "   inter_arrival_time_4996  inter_arrival_time_4997  inter_arrival_time_4998  \\\n",
       "0                      0.0                      0.0                      0.0   \n",
       "1                      0.0                      0.0                      0.0   \n",
       "2                      0.0                      0.0                      0.0   \n",
       "3                      0.0                      0.0                      0.0   \n",
       "4                      0.0                      0.0                      0.0   \n",
       "\n",
       "         label  \n",
       "0  unmonitored  \n",
       "1  unmonitored  \n",
       "2  unmonitored  \n",
       "3  unmonitored  \n",
       "4  unmonitored  \n",
       "\n",
       "[5 rows x 10000 columns]"
      ]
     },
     "execution_count": 3,
     "metadata": {},
     "output_type": "execute_result"
    }
   ],
   "source": [
    "train_data = pd.read_csv('Website_Fingerprinting_CDMC2023.csv')\n",
    "train_data.head()"
   ]
  },
  {
   "cell_type": "code",
   "execution_count": 4,
   "id": "a1233014",
   "metadata": {},
   "outputs": [],
   "source": [
    "X = train_data.drop('label', axis=1)\n",
    "y = train_data['label']"
   ]
  },
  {
   "cell_type": "code",
   "execution_count": 5,
   "id": "301e2459",
   "metadata": {},
   "outputs": [],
   "source": [
    "X_train, X_test, y_train, y_test = train_test_split(X, y, test_size=0.2, random_state=42)"
   ]
  },
  {
   "cell_type": "markdown",
   "id": "3d16649e",
   "metadata": {},
   "source": [
    "## Training Models"
   ]
  },
  {
   "cell_type": "code",
   "execution_count": 9,
   "id": "db5e64f8",
   "metadata": {},
   "outputs": [
    {
     "name": "stderr",
     "output_type": "stream",
     "text": [
      "C:\\Users\\parva\\anaconda3\\lib\\site-packages\\sklearn\\linear_model\\_logistic.py:814: ConvergenceWarning: lbfgs failed to converge (status=1):\n",
      "STOP: TOTAL NO. of ITERATIONS REACHED LIMIT.\n",
      "\n",
      "Increase the number of iterations (max_iter) or scale the data as shown in:\n",
      "    https://scikit-learn.org/stable/modules/preprocessing.html\n",
      "Please also refer to the documentation for alternative solver options:\n",
      "    https://scikit-learn.org/stable/modules/linear_model.html#logistic-regression\n",
      "  n_iter_i = _check_optimize_result(\n"
     ]
    },
    {
     "data": {
      "text/plain": [
       "0.841"
      ]
     },
     "execution_count": 9,
     "metadata": {},
     "output_type": "execute_result"
    }
   ],
   "source": [
    "#Logistic Regression\n",
    "\n",
    "model = LogisticRegression()\n",
    "model = model.fit(X_train,y_train)\n",
    "y_pred=model.predict(X_test)\n",
    "accuracy_score(y_pred, y_test)"
   ]
  },
  {
   "cell_type": "code",
   "execution_count": 10,
   "id": "a0cb3f1e",
   "metadata": {},
   "outputs": [
    {
     "data": {
      "text/plain": [
       "0.817"
      ]
     },
     "execution_count": 10,
     "metadata": {},
     "output_type": "execute_result"
    }
   ],
   "source": [
    "# Calculate the sample weights based on the class distribution\n",
    "sample_weight = compute_sample_weight('balanced', y_train)\n",
    "\n",
    "# Train a Weighted Random Forest classifier on the training data\n",
    "rclf = RandomForestClassifier()\n",
    "rclf.fit(X_train, y_train, sample_weight=sample_weight)\n",
    "y_pred=rclf.predict(X_test)\n",
    "accuracy_score(y_pred, y_test)"
   ]
  },
  {
   "cell_type": "code",
   "execution_count": 11,
   "id": "612efcae",
   "metadata": {},
   "outputs": [
    {
     "data": {
      "text/plain": [
       "0.7395"
      ]
     },
     "execution_count": 11,
     "metadata": {},
     "output_type": "execute_result"
    }
   ],
   "source": [
    "clf = DecisionTreeClassifier()\n",
    "# Train Decision Tree Classifer\n",
    "clf = clf.fit(X_train,y_train)\n",
    "#Predict the response for test dataset\n",
    "y_pred = clf.predict(X_test)\n",
    "accuracy_score(y_test, y_pred)"
   ]
  },
  {
   "cell_type": "code",
   "execution_count": 12,
   "id": "ad303ba5",
   "metadata": {},
   "outputs": [
    {
     "data": {
      "text/plain": [
       "0.46"
      ]
     },
     "execution_count": 12,
     "metadata": {},
     "output_type": "execute_result"
    }
   ],
   "source": [
    "nb_classifier = GaussianNB()\n",
    "nb = nb_classifier.fit(X_train,y_train)\n",
    "#Predict the response for test dataset\n",
    "y_pred = nb.predict(X_test)\n",
    "accuracy_score(y_test, y_pred)"
   ]
  },
  {
   "cell_type": "code",
   "execution_count": 13,
   "id": "815e776c",
   "metadata": {},
   "outputs": [
    {
     "data": {
      "text/plain": [
       "0.6435"
      ]
     },
     "execution_count": 13,
     "metadata": {},
     "output_type": "execute_result"
    }
   ],
   "source": [
    "ada = AdaBoostClassifier()\n",
    "ada.fit(X_train, y_train)\n",
    "y_pred=ada.predict(X_test) \n",
    "accuracy_score(y_test,y_pred)"
   ]
  },
  {
   "cell_type": "code",
   "execution_count": 14,
   "id": "6dc64e57",
   "metadata": {},
   "outputs": [
    {
     "data": {
      "text/plain": [
       "0.683"
      ]
     },
     "execution_count": 14,
     "metadata": {},
     "output_type": "execute_result"
    }
   ],
   "source": [
    "pa_classifier=PassiveAggressiveClassifier()\n",
    "pa_classifier.fit(X_train,y_train)\n",
    "y_pred=pa_classifier.predict(X_test) \n",
    "accuracy_score(y_test,y_pred)"
   ]
  },
  {
   "cell_type": "code",
   "execution_count": 15,
   "id": "ad15c4b8",
   "metadata": {},
   "outputs": [
    {
     "data": {
      "text/plain": [
       "0.636"
      ]
     },
     "execution_count": 15,
     "metadata": {},
     "output_type": "execute_result"
    }
   ],
   "source": [
    "p = Pipeline([\n",
    "    ('Normalizing', MinMaxScaler()),\n",
    "    ('MultinomialNB', MultinomialNB())\n",
    "])\n",
    "p.fit(X_train, y_train)\n",
    "y_pred=p.predict(X_test) \n",
    "accuracy_score(y_test,y_pred)"
   ]
  },
  {
   "cell_type": "markdown",
   "id": "501efa91",
   "metadata": {},
   "source": [
    "## XGBoost showed the maximimum accuracy"
   ]
  },
  {
   "cell_type": "code",
   "execution_count": 16,
   "id": "13585686",
   "metadata": {
    "scrolled": true
   },
   "outputs": [
    {
     "name": "stdout",
     "output_type": "stream",
     "text": [
      "0.9185\n"
     ]
    }
   ],
   "source": [
    "le = LabelEncoder()\n",
    "y_1 = le.fit_transform(y_train)\n",
    "\n",
    "# Train the model using the encoded labels\n",
    "xgb_clf = xgb.XGBClassifier()\n",
    "xgb_clf = xgb_clf.fit(X_train, y_1)\n",
    "\n",
    "y_pred_encoded = xgb_clf.predict(X_test)\n",
    "y_pred_xgb = le.inverse_transform(y_pred_encoded)\n",
    "accuracy_xgb = accuracy_score(y_test, y_pred_xgb)\n",
    "print(accuracy_xgb)"
   ]
  },
  {
   "cell_type": "markdown",
   "id": "123cf1c8",
   "metadata": {},
   "source": [
    "## Peformance Analysis of XGBoost "
   ]
  },
  {
   "cell_type": "code",
   "execution_count": 17,
   "id": "49ae8f97",
   "metadata": {},
   "outputs": [
    {
     "name": "stdout",
     "output_type": "stream",
     "text": [
      "                                     precision    recall  f1-score   support\n",
      "\n",
      "                           1f02.net       1.00      0.86      0.92         7\n",
      "                         58hyip.com       1.00      0.86      0.92         7\n",
      "                   accesscities.org       1.00      1.00      1.00         7\n",
      "                        aerosvit.ua       1.00      0.91      0.95        11\n",
      "      agencymanagementinstitute.com       1.00      0.86      0.92         7\n",
      "                        apkmaza.org       1.00      0.78      0.88         9\n",
      "                          auctor.tv       1.00      0.60      0.75         5\n",
      "                      ayteks.com.tr       1.00      1.00      1.00        13\n",
      "                bbpeoplemeet.review       1.00      1.00      1.00        11\n",
      "                 bestasianwomen.com       1.00      0.70      0.82        10\n",
      "                    bestsellers.one       1.00      0.71      0.83         7\n",
      "                     betrhealth.com       1.00      0.64      0.78        11\n",
      "                    bizversions.com       1.00      0.64      0.78        11\n",
      "                     buydmtdrug.com       1.00      0.80      0.89         5\n",
      "             buysellads-d.openx.net       0.75      0.90      0.82        10\n",
      "                     celebswiki.com       1.00      0.83      0.91         6\n",
      "                 childrens-songs.ru       0.88      1.00      0.93         7\n",
      "                      cinema-us.xyz       1.00      0.91      0.95        11\n",
      "community-uploads.highwinds-cdn.com       1.00      0.92      0.96        12\n",
      "                 cssanimation.rocks       1.00      0.88      0.93         8\n",
      "          design-airco.blogspot.com       1.00      0.91      0.95        11\n",
      "                    dewa89login.com       1.00      0.70      0.82        10\n",
      "                 directoryproxy.com       1.00      1.00      1.00         6\n",
      "                      duinocoin.com       1.00      0.80      0.89         5\n",
      "            eurofootballrumours.com       1.00      1.00      1.00         8\n",
      "                       fanscape.com       1.00      1.00      1.00         8\n",
      "                    faucetalpha.com       1.00      1.00      1.00        12\n",
      "                  filmesonlines.org       1.00      0.82      0.90        11\n",
      "                      fixitphone.ru       1.00      0.92      0.96        12\n",
      "              freeadultcamtocam.com       0.83      1.00      0.91         5\n",
      "                   fuckthisgirl.net       1.00      0.46      0.63        13\n",
      "                   gothiatowers.com       1.00      0.40      0.57         5\n",
      "                     greetality.com       1.00      0.86      0.92        14\n",
      "                    hotterholes.com       1.00      0.80      0.89         5\n",
      "                    howtotwitch.com       1.00      0.78      0.88         9\n",
      "                  ibirthdaycake.com       1.00      1.00      1.00        11\n",
      "            icensefree.blogspot.com       1.00      1.00      1.00         9\n",
      "                    images.kiwi.com       1.00      0.57      0.73         7\n",
      "            internetpharmacy.online       1.00      1.00      1.00        11\n",
      "                        iyotero.com       1.00      0.50      0.67        14\n",
      "                 jacobappelbaum.net       1.00      1.00      1.00         4\n",
      "                   joker123game.org       1.00      0.83      0.91         6\n",
      "                       kanapita.com       0.67      0.29      0.40         7\n",
      "                   kauppapaikat.net       0.91      0.91      0.91        11\n",
      "                     luxuryl1fe.com       1.00      1.00      1.00         4\n",
      "               madesignistanbul.com       1.00      0.75      0.86         4\n",
      "              mambaandmambacita.org       0.89      0.73      0.80        11\n",
      "                     manialinks.com       1.00      0.67      0.80         9\n",
      "        mausstrategicconsulting.com       1.00      1.00      1.00         6\n",
      "                            mdmm.cc       1.00      1.00      1.00         9\n",
      "        media.diariolasamericas.com       0.75      1.00      0.86         9\n",
      "   medicalpsychedelicdispensary.com       1.00      1.00      1.00         7\n",
      "  mercurecitycenter.hu-budapest.com       0.89      0.67      0.76        12\n",
      "            modernhomesteadmama.com       1.00      1.00      1.00         3\n",
      "                   mostbet-wxn7.xyz       1.00      0.78      0.88         9\n",
      "                narmassociation.org       1.00      0.50      0.67         8\n",
      "                       newsmenk.com       1.00      0.67      0.80         9\n",
      "                         nibandh.co       0.50      0.50      0.50         8\n",
      "                        peta.web.id       1.00      1.00      1.00         6\n",
      "                      pornflies.com       1.00      0.71      0.83         7\n",
      "                            puri.io       1.00      0.88      0.93         8\n",
      "                        qvcredit.sg       1.00      0.50      0.67         4\n",
      "                reviewsreporter.com       0.83      0.83      0.83         6\n",
      "                            seby.io       1.00      1.00      1.00         8\n",
      "                series-check-in.com       0.86      1.00      0.92         6\n",
      "              sharecovid19story.com       1.00      0.85      0.92        13\n",
      "                  sickforprofit.com       0.67      0.25      0.36         8\n",
      "                  tech-venturez.com       0.71      0.71      0.71         7\n",
      "          thehonortime.blogspot.com       0.80      0.57      0.67         7\n",
      "                 thewebmagazine.org       1.00      0.83      0.91         6\n",
      "                  thienduongweb.com       1.00      0.86      0.92         7\n",
      "        throughthefencebaseball.com       1.00      0.43      0.60         7\n",
      "                    tibia-stats.com       1.00      0.50      0.67         4\n",
      "                          timo0.com       1.00      1.00      1.00         1\n",
      "                     tivoyageur.com       1.00      1.00      1.00         4\n",
      "                   trustbillion.com       1.00      0.83      0.91         6\n",
      "                       tw.hxxs8.com       0.50      0.20      0.29         5\n",
      "                        unmonitored       0.90      0.98      0.94      1294\n",
      "                         upbet.site       1.00      0.86      0.92         7\n",
      "                   uralenergomet.ru       1.00      1.00      1.00         9\n",
      "                     workshop.codes       1.00      0.83      0.91         6\n",
      "                      worldstar.org       0.80      0.80      0.80        10\n",
      "                        wpastra.com       1.00      0.60      0.75         5\n",
      "                          wpgiz.com       1.00      0.60      0.75        10\n",
      "             www.browneyedbaker.com       1.00      0.50      0.67         8\n",
      "                   www.flexclip.com       1.00      0.86      0.92         7\n",
      "                www.gamerguides.com       1.00      0.71      0.83         7\n",
      "                  www.google.com.ng       1.00      1.00      1.00        14\n",
      "      xprostitutki-chelyabinska.com       1.00      1.00      1.00         6\n",
      "\n",
      "                           accuracy                           0.92      2000\n",
      "                          macro avg       0.96      0.80      0.86      2000\n",
      "                       weighted avg       0.92      0.92      0.91      2000\n",
      "\n"
     ]
    }
   ],
   "source": [
    "print(classification_report(y_test, y_pred_xgb))"
   ]
  },
  {
   "cell_type": "code",
   "execution_count": 27,
   "id": "73e13c8f",
   "metadata": {},
   "outputs": [],
   "source": [
    "def cf_matrix(y_test, y_pred):\n",
    "    cf = confusion_matrix(y_test, y_pred)\n",
    "    classes=[]\n",
    "    sns.heatmap(cf, annot = True, xticklabels = classes, yticklabels = classes, fmt ='g')\n",
    "    plt.xlabel('Predicted Labels')\n",
    "    plt.ylabel('True Labels')\n",
    "    plt.title('Confusion Matrix')\n",
    "    plt.figure(figsize=(100, 200))\n",
    "    plt.show()"
   ]
  },
  {
   "cell_type": "code",
   "execution_count": 28,
   "id": "5b905f39",
   "metadata": {},
   "outputs": [
    {
     "data": {
      "text/plain": [
       "array([[ 6,  0,  0, ...,  0,  0,  0],\n",
       "       [ 0,  6,  0, ...,  0,  0,  0],\n",
       "       [ 0,  0,  7, ...,  0,  0,  0],\n",
       "       ...,\n",
       "       [ 0,  0,  0, ...,  5,  0,  0],\n",
       "       [ 0,  0,  0, ...,  0, 14,  0],\n",
       "       [ 0,  0,  0, ...,  0,  0,  6]], dtype=int64)"
      ]
     },
     "execution_count": 28,
     "metadata": {},
     "output_type": "execute_result"
    }
   ],
   "source": [
    "confusion_matrix(y_test, y_pred_xgb)"
   ]
  },
  {
   "cell_type": "code",
   "execution_count": 29,
   "id": "91abef93",
   "metadata": {},
   "outputs": [
    {
     "data": {
      "image/png": "[encoded data removed]",
      "text/plain": [
       "<Figure size 432x288 with 2 Axes>"
      ]
     },
     "metadata": {
      "needs_background": "light"
     },
     "output_type": "display_data"
    },
    {
     "data": {
      "text/plain": [
       "<Figure size 7200x14400 with 0 Axes>"
      ]
     },
     "metadata": {},
     "output_type": "display_data"
    }
   ],
   "source": [
    "cf_matrix(y_test, y_pred_xgb)"
   ]
  },
  {
   "cell_type": "code",
   "execution_count": 30,
   "id": "afd41075",
   "metadata": {},
   "outputs": [
    {
     "data": {
      "text/html": [
       "<div>\n",
       "<style scoped>\n",
       "    .dataframe tbody tr th:only-of-type {\n",
       "        vertical-align: middle;\n",
       "    }\n",
       "\n",
       "    .dataframe tbody tr th {\n",
       "        vertical-align: top;\n",
       "    }\n",
       "\n",
       "    .dataframe thead th {\n",
       "        text-align: right;\n",
       "    }\n",
       "</style>\n",
       "<table border=\"1\" class=\"dataframe\">\n",
       "  <thead>\n",
       "    <tr style=\"text-align: right;\">\n",
       "      <th></th>\n",
       "      <th>packet_size_with_direction_0</th>\n",
       "      <th>packet_size_with_direction_1</th>\n",
       "      <th>packet_size_with_direction_2</th>\n",
       "      <th>packet_size_with_direction_3</th>\n",
       "      <th>packet_size_with_direction_4</th>\n",
       "      <th>packet_size_with_direction_5</th>\n",
       "      <th>packet_size_with_direction_6</th>\n",
       "      <th>packet_size_with_direction_7</th>\n",
       "      <th>packet_size_with_direction_8</th>\n",
       "      <th>packet_size_with_direction_9</th>\n",
       "      <th>...</th>\n",
       "      <th>inter_arrival_time_4989</th>\n",
       "      <th>inter_arrival_time_4990</th>\n",
       "      <th>inter_arrival_time_4991</th>\n",
       "      <th>inter_arrival_time_4992</th>\n",
       "      <th>inter_arrival_time_4993</th>\n",
       "      <th>inter_arrival_time_4994</th>\n",
       "      <th>inter_arrival_time_4995</th>\n",
       "      <th>inter_arrival_time_4996</th>\n",
       "      <th>inter_arrival_time_4997</th>\n",
       "      <th>inter_arrival_time_4998</th>\n",
       "    </tr>\n",
       "  </thead>\n",
       "  <tbody>\n",
       "    <tr>\n",
       "      <th>0</th>\n",
       "      <td>-1258.0</td>\n",
       "      <td>1208.0</td>\n",
       "      <td>1208.0</td>\n",
       "      <td>1208.0</td>\n",
       "      <td>759.0</td>\n",
       "      <td>-61.0</td>\n",
       "      <td>-93.0</td>\n",
       "      <td>-89.0</td>\n",
       "      <td>-352.0</td>\n",
       "      <td>539.0</td>\n",
       "      <td>...</td>\n",
       "      <td>0.0</td>\n",
       "      <td>0.0</td>\n",
       "      <td>0.0</td>\n",
       "      <td>0.0</td>\n",
       "      <td>0.0</td>\n",
       "      <td>0.0</td>\n",
       "      <td>0.0</td>\n",
       "      <td>0.0</td>\n",
       "      <td>0.0</td>\n",
       "      <td>0.0</td>\n",
       "    </tr>\n",
       "    <tr>\n",
       "      <th>1</th>\n",
       "      <td>-1258.0</td>\n",
       "      <td>1208.0</td>\n",
       "      <td>1208.0</td>\n",
       "      <td>1208.0</td>\n",
       "      <td>786.0</td>\n",
       "      <td>-61.0</td>\n",
       "      <td>-93.0</td>\n",
       "      <td>-86.0</td>\n",
       "      <td>-363.0</td>\n",
       "      <td>544.0</td>\n",
       "      <td>...</td>\n",
       "      <td>0.0</td>\n",
       "      <td>0.0</td>\n",
       "      <td>0.0</td>\n",
       "      <td>0.0</td>\n",
       "      <td>0.0</td>\n",
       "      <td>0.0</td>\n",
       "      <td>0.0</td>\n",
       "      <td>0.0</td>\n",
       "      <td>0.0</td>\n",
       "      <td>0.0</td>\n",
       "    </tr>\n",
       "    <tr>\n",
       "      <th>2</th>\n",
       "      <td>-1258.0</td>\n",
       "      <td>1208.0</td>\n",
       "      <td>1208.0</td>\n",
       "      <td>1208.0</td>\n",
       "      <td>751.0</td>\n",
       "      <td>-61.0</td>\n",
       "      <td>-93.0</td>\n",
       "      <td>-91.0</td>\n",
       "      <td>-353.0</td>\n",
       "      <td>587.0</td>\n",
       "      <td>...</td>\n",
       "      <td>0.0</td>\n",
       "      <td>0.0</td>\n",
       "      <td>0.0</td>\n",
       "      <td>0.0</td>\n",
       "      <td>0.0</td>\n",
       "      <td>0.0</td>\n",
       "      <td>0.0</td>\n",
       "      <td>0.0</td>\n",
       "      <td>0.0</td>\n",
       "      <td>0.0</td>\n",
       "    </tr>\n",
       "    <tr>\n",
       "      <th>3</th>\n",
       "      <td>-1258.0</td>\n",
       "      <td>1258.0</td>\n",
       "      <td>1258.0</td>\n",
       "      <td>1258.0</td>\n",
       "      <td>-49.0</td>\n",
       "      <td>-49.0</td>\n",
       "      <td>534.0</td>\n",
       "      <td>-49.0</td>\n",
       "      <td>-91.0</td>\n",
       "      <td>-77.0</td>\n",
       "      <td>...</td>\n",
       "      <td>0.0</td>\n",
       "      <td>0.0</td>\n",
       "      <td>0.0</td>\n",
       "      <td>0.0</td>\n",
       "      <td>0.0</td>\n",
       "      <td>0.0</td>\n",
       "      <td>0.0</td>\n",
       "      <td>0.0</td>\n",
       "      <td>0.0</td>\n",
       "      <td>0.0</td>\n",
       "    </tr>\n",
       "    <tr>\n",
       "      <th>4</th>\n",
       "      <td>-1258.0</td>\n",
       "      <td>1260.0</td>\n",
       "      <td>49.0</td>\n",
       "      <td>1260.0</td>\n",
       "      <td>-1258.0</td>\n",
       "      <td>1260.0</td>\n",
       "      <td>1260.0</td>\n",
       "      <td>175.0</td>\n",
       "      <td>-49.0</td>\n",
       "      <td>-49.0</td>\n",
       "      <td>...</td>\n",
       "      <td>0.0</td>\n",
       "      <td>0.0</td>\n",
       "      <td>0.0</td>\n",
       "      <td>0.0</td>\n",
       "      <td>0.0</td>\n",
       "      <td>0.0</td>\n",
       "      <td>0.0</td>\n",
       "      <td>0.0</td>\n",
       "      <td>0.0</td>\n",
       "      <td>0.0</td>\n",
       "    </tr>\n",
       "  </tbody>\n",
       "</table>\n",
       "<p>5 rows × 9999 columns</p>\n",
       "</div>"
      ],
      "text/plain": [
       "   packet_size_with_direction_0  packet_size_with_direction_1  \\\n",
       "0                       -1258.0                        1208.0   \n",
       "1                       -1258.0                        1208.0   \n",
       "2                       -1258.0                        1208.0   \n",
       "3                       -1258.0                        1258.0   \n",
       "4                       -1258.0                        1260.0   \n",
       "\n",
       "   packet_size_with_direction_2  packet_size_with_direction_3  \\\n",
       "0                        1208.0                        1208.0   \n",
       "1                        1208.0                        1208.0   \n",
       "2                        1208.0                        1208.0   \n",
       "3                        1258.0                        1258.0   \n",
       "4                          49.0                        1260.0   \n",
       "\n",
       "   packet_size_with_direction_4  packet_size_with_direction_5  \\\n",
       "0                         759.0                         -61.0   \n",
       "1                         786.0                         -61.0   \n",
       "2                         751.0                         -61.0   \n",
       "3                         -49.0                         -49.0   \n",
       "4                       -1258.0                        1260.0   \n",
       "\n",
       "   packet_size_with_direction_6  packet_size_with_direction_7  \\\n",
       "0                         -93.0                         -89.0   \n",
       "1                         -93.0                         -86.0   \n",
       "2                         -93.0                         -91.0   \n",
       "3                         534.0                         -49.0   \n",
       "4                        1260.0                         175.0   \n",
       "\n",
       "   packet_size_with_direction_8  packet_size_with_direction_9  ...  \\\n",
       "0                        -352.0                         539.0  ...   \n",
       "1                        -363.0                         544.0  ...   \n",
       "2                        -353.0                         587.0  ...   \n",
       "3                         -91.0                         -77.0  ...   \n",
       "4                         -49.0                         -49.0  ...   \n",
       "\n",
       "   inter_arrival_time_4989  inter_arrival_time_4990  inter_arrival_time_4991  \\\n",
       "0                      0.0                      0.0                      0.0   \n",
       "1                      0.0                      0.0                      0.0   \n",
       "2                      0.0                      0.0                      0.0   \n",
       "3                      0.0                      0.0                      0.0   \n",
       "4                      0.0                      0.0                      0.0   \n",
       "\n",
       "   inter_arrival_time_4992  inter_arrival_time_4993  inter_arrival_time_4994  \\\n",
       "0                      0.0                      0.0                      0.0   \n",
       "1                      0.0                      0.0                      0.0   \n",
       "2                      0.0                      0.0                      0.0   \n",
       "3                      0.0                      0.0                      0.0   \n",
       "4                      0.0                      0.0                      0.0   \n",
       "\n",
       "   inter_arrival_time_4995  inter_arrival_time_4996  inter_arrival_time_4997  \\\n",
       "0                      0.0                      0.0                      0.0   \n",
       "1                      0.0                      0.0                      0.0   \n",
       "2                      0.0                      0.0                      0.0   \n",
       "3                      0.0                      0.0                      0.0   \n",
       "4                      0.0                      0.0                      0.0   \n",
       "\n",
       "   inter_arrival_time_4998  \n",
       "0                      0.0  \n",
       "1                      0.0  \n",
       "2                      0.0  \n",
       "3                      0.0  \n",
       "4                      0.0  \n",
       "\n",
       "[5 rows x 9999 columns]"
      ]
     },
     "execution_count": 30,
     "metadata": {},
     "output_type": "execute_result"
    }
   ],
   "source": [
    "test_data = pd.read_csv('Website_Fingerprinting_CDMC2023_test.csv')\n",
    "test_data.head()"
   ]
  },
  {
   "cell_type": "code",
   "execution_count": 32,
   "id": "53b7f834",
   "metadata": {},
   "outputs": [
    {
     "data": {
      "text/plain": [
       "array([ 3, 71, 77, ..., 77, 81, 77], dtype=int64)"
      ]
     },
     "execution_count": 32,
     "metadata": {},
     "output_type": "execute_result"
    }
   ],
   "source": [
    "pred=xgb_clf.predict(test_data)\n",
    "pred"
   ]
  },
  {
   "cell_type": "code",
   "execution_count": 33,
   "id": "10adf3f1",
   "metadata": {},
   "outputs": [],
   "source": [
    "pd.DataFrame(pred).to_csv('predictions_task2_3.csv', index=False, header=False)"
   ]
  },
  {
   "cell_type": "code",
   "execution_count": null,
   "id": "eed32c09",
   "metadata": {},
   "outputs": [],
   "source": []
  }
 ],
 "metadata": {
  "kernelspec": {
   "display_name": "Python 3 (ipykernel)",
   "language": "python",
   "name": "python3"
  },
  "language_info": {
   "codemirror_mode": {
    "name": "ipython",
    "version": 3
   },
   "file_extension": ".py",
   "mimetype": "text/x-python",
   "name": "python",
   "nbconvert_exporter": "python",
   "pygments_lexer": "ipython3",
   "version": "3.9.12"
  }
 },
 "nbformat": 4,
 "nbformat_minor": 5
}
